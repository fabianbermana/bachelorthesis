{
 "cells": [
  {
   "cell_type": "code",
   "execution_count": 24,
   "id": "bbcda8bf",
   "metadata": {},
   "outputs": [],
   "source": [
    "import torch\n",
    "import time\n",
    "import torch.nn as nn\n",
    "import torch.optim as optim\n",
    "from torch.utils.data import Dataset, DataLoader\n",
    "from torch.optim import Adam\n",
    "from tqdm import tqdm\n",
    "from sklearn.utils import shuffle\n",
    "from sklearn import preprocessing\n",
    "import pandas as pd\n",
    "import numpy as np\n",
    "torch.cuda.empty_cache()\n",
    "gpu = torch.device('cuda')\n",
    "cpu = torch.device('cpu')"
   ]
  },
  {
   "cell_type": "code",
   "execution_count": 25,
   "id": "dd97bdd7",
   "metadata": {},
   "outputs": [],
   "source": [
    "def create_data(X,y):\n",
    "    data_pair = []\n",
    "    for i in range(len(y)):\n",
    "        data_pair.append((X[i],y[i]))\n",
    "    return data_pair"
   ]
  },
  {
   "cell_type": "code",
   "execution_count": 62,
   "id": "d6aa2a76",
   "metadata": {},
   "outputs": [],
   "source": [
    "data_stocks = pd.read_csv('data_stocks.csv')\n",
    "\n",
    "X = np.array(data_stocks.drop(columns=['yyyymm', 'EQPREM']))\n",
    "y = np.array(data_stocks.loc[:,['EQPREM']]).flatten()\n",
    "X = torch.tensor(X).float()\n",
    "y = torch.tensor(y).float()"
   ]
  },
  {
   "cell_type": "code",
   "execution_count": 63,
   "id": "d80d0981",
   "metadata": {},
   "outputs": [],
   "source": [
    "class MLP(nn.Module):\n",
    "    \n",
    "    def __init__(self,input_size, hidden_size, output_size):\n",
    "        super(MLP,self).__init__()\n",
    "        prob = 0.5\n",
    "        self.layers = nn.Sequential(nn.Linear(input_size, hidden_size[0]),\n",
    "                      nn.BatchNorm1d(hidden_size[0]),\n",
    "                      nn.Dropout(prob),\n",
    "                      nn.ReLU(),\n",
    "                      nn.Linear(hidden_size[0], hidden_size[1]),\n",
    "                      nn.BatchNorm1d(hidden_size[1]),\n",
    "                      nn.Dropout(prob),\n",
    "                      nn.ReLU(),\n",
    "                      nn.Linear(hidden_size[1], hidden_size[2]),\n",
    "                      nn.BatchNorm1d(hidden_size[2]),\n",
    "                      nn.Dropout(prob),\n",
    "                      nn.ReLU(),\n",
    "                      nn.Linear(hidden_size[2], hidden_size[3]),\n",
    "                      nn.BatchNorm1d(hidden_size[3]),\n",
    "                      nn.Dropout(prob),\n",
    "                      nn.ReLU(),\n",
    "                      nn.Linear(hidden_size[3], hidden_size[4]),\n",
    "                      nn.BatchNorm1d(hidden_size[4]),\n",
    "                      nn.Dropout(prob),\n",
    "                      nn.ReLU(),\n",
    "                      nn.Linear(hidden_size[4], output_size))                   \n",
    "    def forward(self, x):\n",
    "        \n",
    "        return self.layers(x)"
   ]
  },
  {
   "cell_type": "code",
   "execution_count": 64,
   "id": "e60db483",
   "metadata": {},
   "outputs": [],
   "source": [
    "input_size = X.shape[1]\n",
    "hidden_size = [400, 400, 400, 400, 400]\n",
    "output_size = 1\n",
    "batch_size = 512\n",
    "model = MLP(input_size, hidden_size, output_size)\n",
    "model = model.to(gpu)\n",
    "optimizer = Adam(model.parameters(), lr = 0.0001, weight_decay = 0.01)\n",
    "train_loader = DataLoader(dataset = train_data, batch_size = batch_size, shuffle = True)\n",
    "loss_function = nn.MSELoss()\n",
    "num_epochs = 100"
   ]
  },
  {
   "cell_type": "code",
   "execution_count": 65,
   "id": "02e29abd",
   "metadata": {},
   "outputs": [],
   "source": [
    "def create_model():\n",
    "    input_size = X.shape[1]\n",
    "    hidden_size = [400, 400, 400, 400, 400]\n",
    "    output_size = 1\n",
    "    batch_size = 512\n",
    "    model = MLP(input_size, hidden_size, output_size)\n",
    "    model = model.to(gpu)\n",
    "    optimizer = Adam(model.parameters(), lr = 0.0001, weight_decay = 0.01)\n",
    "    return model, optimizer"
   ]
  },
  {
   "cell_type": "code",
   "execution_count": 109,
   "id": "fb0956e4",
   "metadata": {},
   "outputs": [],
   "source": [
    "def train_model(train_loader, test_loader):\n",
    "    start = time.time()\n",
    "    model, optimizer = create_model()\n",
    "    all_training_loss = []\n",
    "    all_eval_loss = []\n",
    "    for epoch in range(num_epochs):\n",
    "        train_loss = 0\n",
    "        eval_loss = 0\n",
    "\n",
    "        model.train()\n",
    "        for X, y in train_loader:\n",
    "            torch.cuda.empty_cache()\n",
    "            y = y.unsqueeze(1)\n",
    "            X = X.to(gpu)\n",
    "            y = y.to(gpu)\n",
    "            output = model(X)\n",
    "            loss = loss_function(output, y)\n",
    "            optimizer.zero_grad()\n",
    "            loss.backward()\n",
    "            optimizer.step()\n",
    "            train_loss += loss.detach().item()\n",
    "        \n",
    "        model.eval()\n",
    "        for X,y in test_loader:\n",
    "            X = X.to(gpu)\n",
    "            y = y.to(gpu)\n",
    "            prediction = model(X)\n",
    "        \n",
    "        all_training_loss.append(train_loss/len(train_loader))\n",
    "        #print(\"Epoch{}, Training loss:{}\".format(epoch, train_loss / len(train_loader)))\n",
    "    print(prediction[0][0])\n",
    "    #print(f'train loss: {train_loss}')\n",
    "    #print(f'train_time {time.time()-start}')\n",
    "    return train_loss"
   ]
  },
  {
   "cell_type": "code",
   "execution_count": 110,
   "id": "ff9325cd",
   "metadata": {},
   "outputs": [
    {
     "name": "stdout",
     "output_type": "stream",
     "text": [
      "tensor(0.0292, device='cuda:0', grad_fn=<SelectBackward>)\n",
      "tensor(0.0171, device='cuda:0', grad_fn=<SelectBackward>)\n",
      "tensor(-0.0041, device='cuda:0', grad_fn=<SelectBackward>)\n",
      "tensor(0.0448, device='cuda:0', grad_fn=<SelectBackward>)\n",
      "tensor(-0.0090, device='cuda:0', grad_fn=<SelectBackward>)\n",
      "tensor(0.0186, device='cuda:0', grad_fn=<SelectBackward>)\n",
      "tensor(0.1106, device='cuda:0', grad_fn=<SelectBackward>)\n",
      "tensor(0.0784, device='cuda:0', grad_fn=<SelectBackward>)\n",
      "tensor(0.0258, device='cuda:0', grad_fn=<SelectBackward>)\n",
      "tensor(0.0009, device='cuda:0', grad_fn=<SelectBackward>)\n"
     ]
    }
   ],
   "source": [
    "for i in range(10):\n",
    "    train_data = create_data(X[i:360+i], y[i:360+i])\n",
    "    test_data = create_data(X[360+i+1].reshape(1,X.shape[1]), y[360+i+1].reshape(1))\n",
    "    train_loader = DataLoader(dataset = train_data, batch_size = batch_size, shuffle = True)\n",
    "    test_loader = DataLoader(dataset = test_data, batch_size = batch_size, shuffle = True)\n",
    "    train_model(train_loader, test_loader)"
   ]
  },
  {
   "cell_type": "code",
   "execution_count": 112,
   "id": "c6c22888",
   "metadata": {},
   "outputs": [
    {
     "data": {
      "text/plain": [
       "tensor([-0.0279,  0.0212,  0.0432,  0.0355, -0.0033,  0.0073, -0.0532, -0.0621,\n",
       "        -0.0422,  0.0205, -0.0409])"
      ]
     },
     "execution_count": 112,
     "metadata": {},
     "output_type": "execute_result"
    }
   ],
   "source": [
    "y[361:372]"
   ]
  },
  {
   "cell_type": "code",
   "execution_count": 96,
   "id": "4d28fb14",
   "metadata": {},
   "outputs": [
    {
     "data": {
      "text/plain": [
       "torch.Size([1080, 12])"
      ]
     },
     "execution_count": 96,
     "metadata": {},
     "output_type": "execute_result"
    }
   ],
   "source": [
    "X.shape"
   ]
  },
  {
   "cell_type": "code",
   "execution_count": null,
   "id": "c23edca1",
   "metadata": {},
   "outputs": [],
   "source": []
  }
 ],
 "metadata": {
  "kernelspec": {
   "display_name": "Python 3 (ipykernel)",
   "language": "python",
   "name": "python3"
  },
  "language_info": {
   "codemirror_mode": {
    "name": "ipython",
    "version": 3
   },
   "file_extension": ".py",
   "mimetype": "text/x-python",
   "name": "python",
   "nbconvert_exporter": "python",
   "pygments_lexer": "ipython3",
   "version": "3.9.7"
  }
 },
 "nbformat": 4,
 "nbformat_minor": 5
}
